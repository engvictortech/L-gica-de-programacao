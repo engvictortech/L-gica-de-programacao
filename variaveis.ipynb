{
  "cells": [
    {
      "cell_type": "markdown",
      "metadata": {
        "id": "w3-XNAVXvXA5"
      },
      "source": [
        "#OPERADORES ARITMÉTICOS\n",
        "##Exercicios"
      ]
    },
    {
      "cell_type": "code",
      "execution_count": null,
      "metadata": {
        "colab": {
          "base_uri": "https://localhost:8080/"
        },
        "id": "In0hI5tAv4CI",
        "outputId": "69a796a1-748f-4541-ecd9-9ce37cec4d38"
      },
      "outputs": [
        {
          "data": {
            "text/plain": [
              "12"
            ]
          },
          "execution_count": 1,
          "metadata": {},
          "output_type": "execute_result"
        }
      ],
      "source": [
        "#Adição\n",
        "10 + 2"
      ]
    },
    {
      "cell_type": "code",
      "execution_count": null,
      "metadata": {
        "colab": {
          "base_uri": "https://localhost:8080/"
        },
        "id": "QYXYS4aIwJqw",
        "outputId": "fdd69a7f-5a01-4ac2-ced2-a9121c946622"
      },
      "outputs": [
        {
          "data": {
            "text/plain": [
              "8"
            ]
          },
          "execution_count": 2,
          "metadata": {},
          "output_type": "execute_result"
        }
      ],
      "source": [
        "#Subtração\n",
        "10 - 2"
      ]
    },
    {
      "cell_type": "code",
      "execution_count": null,
      "metadata": {
        "colab": {
          "base_uri": "https://localhost:8080/"
        },
        "id": "wT0DQBZkwRyZ",
        "outputId": "ecbfa30c-53af-400f-cd28-970385692db9"
      },
      "outputs": [
        {
          "data": {
            "text/plain": [
              "20"
            ]
          },
          "execution_count": 3,
          "metadata": {},
          "output_type": "execute_result"
        }
      ],
      "source": [
        "#Multiplicação\n",
        "10 * 2"
      ]
    },
    {
      "cell_type": "code",
      "execution_count": 6,
      "metadata": {
        "colab": {
          "base_uri": "https://localhost:8080/"
        },
        "id": "NM9-S80ywd4I",
        "outputId": "099309b1-3803-4148-e457-b8ad983324d3"
      },
      "outputs": [
        {
          "data": {
            "text/plain": [
              "5.0"
            ]
          },
          "execution_count": 6,
          "metadata": {},
          "output_type": "execute_result"
        }
      ],
      "source": [
        "#Divisão\n",
        "10 / 2"
      ]
    },
    {
      "cell_type": "code",
      "execution_count": null,
      "metadata": {
        "id": "q_rxkqjEwoed"
      },
      "outputs": [],
      "source": [
        "#Divisão Inteira\n",
        "10 // 2"
      ]
    },
    {
      "cell_type": "code",
      "execution_count": null,
      "metadata": {
        "id": "rSi2lP8qw4xQ"
      },
      "outputs": [],
      "source": [
        "#Resto da Divisão\n",
        "10 % 2"
      ]
    },
    {
      "cell_type": "code",
      "execution_count": null,
      "metadata": {
        "id": "hVSb7eN1xClj"
      },
      "outputs": [],
      "source": [
        "#Potencialização\n",
        "10 ** 2"
      ]
    },
    {
      "cell_type": "code",
      "execution_count": null,
      "metadata": {
        "id": "nYbij-9jxYjI"
      },
      "outputs": [],
      "source": [
        "#Divisão\n",
        "10 // 6"
      ]
    },
    {
      "cell_type": "markdown",
      "metadata": {
        "id": "PnX77btj03Fn"
      },
      "source": [
        "#OPERADORES RELACIONAIS\n",
        "##Exercicios"
      ]
    },
    {
      "cell_type": "code",
      "execution_count": null,
      "metadata": {
        "colab": {
          "base_uri": "https://localhost:8080/"
        },
        "id": "GU0PLvkg1LhT",
        "outputId": "e2a7ea43-c14c-495c-8ba1-2380cc7a5748"
      },
      "outputs": [
        {
          "data": {
            "text/plain": [
              "False"
            ]
          },
          "execution_count": 13,
          "metadata": {},
          "output_type": "execute_result"
        }
      ],
      "source": [
        "#Menor\n",
        "10 < 2"
      ]
    },
    {
      "cell_type": "code",
      "execution_count": null,
      "metadata": {
        "colab": {
          "base_uri": "https://localhost:8080/"
        },
        "id": "mkvZIydQ1Zny",
        "outputId": "b0cff827-1789-4714-c59f-1595bfee41d8"
      },
      "outputs": [
        {
          "data": {
            "text/plain": [
              "False"
            ]
          },
          "execution_count": 15,
          "metadata": {},
          "output_type": "execute_result"
        }
      ],
      "source": [
        "#Menor ou Igual\n",
        "10 <= 2"
      ]
    },
    {
      "cell_type": "code",
      "execution_count": null,
      "metadata": {
        "colab": {
          "base_uri": "https://localhost:8080/"
        },
        "id": "gFN1cRGv1d9s",
        "outputId": "54960fab-0ad7-4a86-a031-98447b300e65"
      },
      "outputs": [
        {
          "data": {
            "text/plain": [
              "True"
            ]
          },
          "execution_count": 16,
          "metadata": {},
          "output_type": "execute_result"
        }
      ],
      "source": [
        "#Maior\n",
        "10 > 2"
      ]
    },
    {
      "cell_type": "code",
      "execution_count": null,
      "metadata": {
        "colab": {
          "base_uri": "https://localhost:8080/"
        },
        "id": "B0kRjXe01zDX",
        "outputId": "3085c226-b0c4-495d-f6f1-b48e93db5d79"
      },
      "outputs": [
        {
          "data": {
            "text/plain": [
              "True"
            ]
          },
          "execution_count": 17,
          "metadata": {},
          "output_type": "execute_result"
        }
      ],
      "source": [
        "#Maior ou Igual\n",
        "10 >= 2"
      ]
    },
    {
      "cell_type": "code",
      "execution_count": null,
      "metadata": {
        "colab": {
          "base_uri": "https://localhost:8080/"
        },
        "id": "QuptxvGf15ps",
        "outputId": "0c4f8ed4-9284-4ded-b466-6867f91fa5ae"
      },
      "outputs": [
        {
          "data": {
            "text/plain": [
              "False"
            ]
          },
          "execution_count": 19,
          "metadata": {},
          "output_type": "execute_result"
        }
      ],
      "source": [
        "#Igual\n",
        "10 == 2"
      ]
    },
    {
      "cell_type": "code",
      "execution_count": null,
      "metadata": {
        "colab": {
          "base_uri": "https://localhost:8080/"
        },
        "id": "gkjMhKw62ITP",
        "outputId": "5b1ca235-abf8-479e-b7c2-bcaadd59185b"
      },
      "outputs": [
        {
          "data": {
            "text/plain": [
              "True"
            ]
          },
          "execution_count": 21,
          "metadata": {},
          "output_type": "execute_result"
        }
      ],
      "source": [
        "#Diferente\n",
        "10 != 2"
      ]
    },
    {
      "cell_type": "markdown",
      "metadata": {
        "id": "KljBb1d05IMG"
      },
      "source": []
    },
    {
      "cell_type": "markdown",
      "metadata": {
        "id": "g02SEhNf5Kf9"
      },
      "source": [
        "#OPERADORES LÓGICOS\n",
        "##Exercicios"
      ]
    },
    {
      "cell_type": "markdown",
      "metadata": {
        "id": "Wwfa6Yhk5anm"
      },
      "source": [
        "And\n"
      ]
    },
    {
      "cell_type": "code",
      "execution_count": null,
      "metadata": {
        "colab": {
          "base_uri": "https://localhost:8080/"
        },
        "id": "rPleIxph5crt",
        "outputId": "da2d3d65-02ff-403c-ec96-8802727f0c45"
      },
      "outputs": [
        {
          "name": "stdout",
          "output_type": "stream",
          "text": [
            "True\n",
            "True\n",
            "True\n",
            "False\n"
          ]
        }
      ],
      "source": [
        "print(10 > 2 and 4 < 6)\n",
        "print(10 > 2 and 4 < 6)\n",
        "print(10 > 2 and 4 < 6)\n",
        "print(10 < 2 and 4 < 2)"
      ]
    },
    {
      "cell_type": "markdown",
      "metadata": {
        "id": "IJ82UOxN6dup"
      },
      "source": [
        "Or"
      ]
    },
    {
      "cell_type": "code",
      "execution_count": null,
      "metadata": {
        "colab": {
          "base_uri": "https://localhost:8080/"
        },
        "id": "nMFOShP86fGY",
        "outputId": "25e00052-28b9-4cdc-d50d-2b00a85d8c97"
      },
      "outputs": [
        {
          "name": "stdout",
          "output_type": "stream",
          "text": [
            "True\n",
            "True\n",
            "True\n",
            "True\n"
          ]
        }
      ],
      "source": [
        "print(10 > 6 or 4 > 6)\n",
        "print(10 < 2 or 4 < 6)\n",
        "print(10 > 2 or 4 < 6)\n",
        "print(10 < 2 or 4 < 6)"
      ]
    },
    {
      "cell_type": "markdown",
      "metadata": {
        "id": "ZA9vS3JN7StE"
      },
      "source": [
        "Not"
      ]
    },
    {
      "cell_type": "code",
      "execution_count": null,
      "metadata": {
        "colab": {
          "base_uri": "https://localhost:8080/"
        },
        "id": "iNgwLlj07btj",
        "outputId": "c3ee6e03-98c4-4664-e8ac-1d27907b6970"
      },
      "outputs": [
        {
          "data": {
            "text/plain": [
              "True"
            ]
          },
          "execution_count": 25,
          "metadata": {},
          "output_type": "execute_result"
        }
      ],
      "source": [
        "not 10 < 2\n"
      ]
    },
    {
      "cell_type": "code",
      "execution_count": null,
      "metadata": {
        "colab": {
          "base_uri": "https://localhost:8080/"
        },
        "id": "DsgVG9F88NPu",
        "outputId": "ca98cbfa-9088-46a4-aa6f-35cf1edf1473"
      },
      "outputs": [
        {
          "data": {
            "text/plain": [
              "False"
            ]
          },
          "execution_count": 27,
          "metadata": {},
          "output_type": "execute_result"
        }
      ],
      "source": [
        "not 10 > 2"
      ]
    },
    {
      "cell_type": "markdown",
      "metadata": {
        "id": "GBOf3_rY-5Lz"
      },
      "source": [
        "#VARIÁVEIS"
      ]
    },
    {
      "cell_type": "code",
      "execution_count": null,
      "metadata": {
        "colab": {
          "base_uri": "https://localhost:8080/"
        },
        "id": "z4YUnjYP--L6",
        "outputId": "1f27ba62-41a8-4e7c-e0d7-3bea80137ce8"
      },
      "outputs": [
        {
          "name": "stdout",
          "output_type": "stream",
          "text": [
            "10\n"
          ]
        }
      ],
      "source": [
        "# Nome da variável é \"x\" que armazena o valor 10 em um espaço na memória\n",
        "x=10\n",
        "print(x) # uttiliza a referencia no nome atribuido"
      ]
    },
    {
      "cell_type": "markdown",
      "metadata": {
        "id": "8KeqxFtpULEX"
      },
      "source": [
        "**Case sensitive**\n",
        "\n",
        "A =! a\n",
        "\n",
        "**Boas Praticas**\n",
        "\n",
        "Exemplos Multiplicações de 2 Números\n",
        "\n",
        "Não Usar\n",
        "\n",
        "* Multiplicação\n",
        "* MultiplicacaoDeDoisNumeros\n",
        "* m\n",
        "\n",
        "Usar\n",
        "\n",
        "* multiplicaçao\n",
        "* mult\n",
        "* mult_total(snakecase)\n"
      ]
    },
    {
      "cell_type": "code",
      "execution_count": null,
      "metadata": {
        "colab": {
          "base_uri": "https://localhost:8080/"
        },
        "id": "YNa2H2RlW0hf",
        "outputId": "5ab2627f-6e44-4273-e34e-2524ef52d131"
      },
      "outputs": [
        {
          "name": "stdout",
          "output_type": "stream",
          "text": [
            "Conhecendo o comando print\n",
            "8\n"
          ]
        }
      ],
      "source": [
        "print(\"Conhecendo o comando print\")\n",
        "x = 8\n",
        "print(x)"
      ]
    },
    {
      "cell_type": "code",
      "execution_count": null,
      "metadata": {
        "colab": {
          "base_uri": "https://localhost:8080/"
        },
        "id": "lMl1GKBRXmq4",
        "outputId": "268f6499-0dc9-4118-ac88-69a230e69214"
      },
      "outputs": [
        {
          "name": "stdout",
          "output_type": "stream",
          "text": [
            "20\n"
          ]
        }
      ],
      "source": [
        "y = 10\n",
        "soma = x + y\n",
        "print(soma)"
      ]
    },
    {
      "cell_type": "code",
      "execution_count": null,
      "metadata": {
        "colab": {
          "base_uri": "https://localhost:8080/"
        },
        "id": "XS37Ta90XygK",
        "outputId": "79c48f08-1c0b-4f76-aaa9-e913c23447e5"
      },
      "outputs": [
        {
          "name": "stdout",
          "output_type": "stream",
          "text": [
            "Victor Crispim\n"
          ]
        }
      ],
      "source": [
        "nome =\"Victor Crispim\"\n",
        "print(nome)"
      ]
    },
    {
      "cell_type": "markdown",
      "metadata": {
        "id": "XR5gpTveYDlM"
      },
      "source": [
        "## **Concatenação**"
      ]
    },
    {
      "cell_type": "code",
      "execution_count": null,
      "metadata": {
        "colab": {
          "base_uri": "https://localhost:8080/"
        },
        "id": "OIQtjo7rYPo7",
        "outputId": "522ccbaa-55fe-4208-f738-ae6d4cfdcce2"
      },
      "outputs": [
        {
          "name": "stdout",
          "output_type": "stream",
          "text": [
            "o Valor de x é 5\n"
          ]
        }
      ],
      "source": [
        "x = 5\n",
        "print(\"o Valor de x é\", x)"
      ]
    },
    {
      "cell_type": "code",
      "execution_count": null,
      "metadata": {
        "colab": {
          "base_uri": "https://localhost:8080/"
        },
        "id": "HmJSnMZlZHT2",
        "outputId": "81d38b99-22f7-4e14-972e-ad46f5393b92"
      },
      "outputs": [
        {
          "name": "stdout",
          "output_type": "stream",
          "text": [
            "o valor de x é 5 e o dobro é 10\n"
          ]
        }
      ],
      "source": [
        "print(\"o valor de x é\", x, \"e o dobro é\", x * 2 )"
      ]
    },
    {
      "cell_type": "code",
      "execution_count": null,
      "metadata": {
        "colab": {
          "base_uri": "https://localhost:8080/"
        },
        "id": "wb5HyN2LZ1qH",
        "outputId": "c9b045c2-82ba-4a14-fd37-b3a3abaac350"
      },
      "outputs": [
        {
          "name": "stdout",
          "output_type": "stream",
          "text": [
            "eu Victor Crispim tirei 5 na prova de Python\n"
          ]
        }
      ],
      "source": [
        "print(\"eu\", nome,\"tirei\", x, \"na prova de Python\")"
      ]
    },
    {
      "cell_type": "code",
      "execution_count": null,
      "metadata": {
        "colab": {
          "base_uri": "https://localhost:8080/"
        },
        "id": "vQ7ZuoHpaMyJ",
        "outputId": "87730ab1-5e55-4941-d09f-f03868cba3cf"
      },
      "outputs": [
        {
          "name": "stdout",
          "output_type": "stream",
          "text": [
            "Declarar as variáveis na mesma linha 10 20\n"
          ]
        }
      ],
      "source": [
        "y = 10; x = 20 + y; z = x -y\n",
        "print(\"Declarar as variáveis na mesma linha\", y, z)"
      ]
    },
    {
      "cell_type": "markdown",
      "metadata": {
        "id": "RDacR5wjb316"
      },
      "source": [
        "## **Type**\n",
        "\n",
        "**type** = **tipo**\n",
        "\n",
        "**num_convert** = **converter variáveis**\n",
        "\n",
        "**Float** = **converter um valor para ponto flutuante, ou seja, para números que têm casas decimais**"
      ]
    },
    {
      "cell_type": "code",
      "execution_count": null,
      "metadata": {
        "colab": {
          "base_uri": "https://localhost:8080/"
        },
        "id": "3dYN3Hm3b6ay",
        "outputId": "1be21500-f46d-4cdd-b98c-5d969804d438"
      },
      "outputs": [
        {
          "name": "stdout",
          "output_type": "stream",
          "text": [
            "x, <class 'int'>\n",
            "nome <class 'str'>\n",
            "num <class 'str'>\n",
            "num_conver <class 'int'>\n",
            "num_float 100.0\n"
          ]
        }
      ],
      "source": [
        "x = 10\n",
        "type(x)\n",
        "print('x,', type(x))\n",
        "\n",
        "nome = 'Victor'\n",
        "print('nome', type(nome))\n",
        "\n",
        "num = '100' #o 100 esta em aspas de trings para coverter usar num_convert\n",
        "num_convert = int(num) #converter variáveis\n",
        "print('num', type(num))\n",
        "print('num_conver', type(num_convert))\n",
        "\n",
        "\n",
        "num_float = float(num)\n",
        "print('num_float', num_float)"
      ]
    },
    {
      "cell_type": "markdown",
      "metadata": {
        "id": "FqSQUOvIiD7v"
      },
      "source": [
        "## **input**\n",
        "\n",
        "* Armazenar a informação digitada pelo usuário em uma variável\n",
        "\n",
        "* o Dado armazenado sempre será um texto"
      ]
    },
    {
      "cell_type": "code",
      "execution_count": null,
      "metadata": {
        "id": "ZF3SMYrpqzaF"
      },
      "outputs": [],
      "source": []
    },
    {
      "cell_type": "code",
      "execution_count": null,
      "metadata": {
        "colab": {
          "base_uri": "https://localhost:8080/"
        },
        "id": "j-zd-b-ekZ9c",
        "outputId": "215c22c3-444b-4389-8f69-8e185059ecc6"
      },
      "outputs": [
        {
          "name": "stdout",
          "output_type": "stream",
          "text": [
            "Digite o nome do Usuário Giovanna Neves Crispim\n",
            "Giovanna Neves Crispim\n"
          ]
        }
      ],
      "source": [
        "nome = input(\"Digite o nome do Usuário \") # Aguardar o Usuário digitar algo\n",
        "print(nome)"
      ]
    },
    {
      "cell_type": "code",
      "execution_count": null,
      "metadata": {
        "colab": {
          "base_uri": "https://localhost:8080/"
        },
        "id": "9rp3qeQIlVKS",
        "outputId": "6584f9bf-5b76-43a9-c710-1ffcbca81597"
      },
      "outputs": [
        {
          "name": "stdout",
          "output_type": "stream",
          "text": [
            "digite a nota 10\n",
            "Giovanna Neves Crispim Sua nota foi 10\n"
          ]
        }
      ],
      "source": [
        "valor = input(\"digite a nota \")\n",
        "\n",
        "print(nome, \"Sua nota foi\", valor )"
      ]
    },
    {
      "cell_type": "code",
      "execution_count": null,
      "metadata": {
        "colab": {
          "base_uri": "https://localhost:8080/"
        },
        "id": "1X8j9vMJpPCv",
        "outputId": "52d2842b-556a-4f03-93c5-a17f9d51af88"
      },
      "outputs": [
        {
          "name": "stdout",
          "output_type": "stream",
          "text": [
            "Digite o valor do produto: 100\n",
            "100\n"
          ]
        }
      ],
      "source": [
        "valor = input(\"Digite o valor do produto: \")\n",
        "print(valor)"
      ]
    },
    {
      "cell_type": "code",
      "execution_count": null,
      "metadata": {
        "id": "Sl83KfV-mPLo"
      },
      "outputs": [],
      "source": [
        "desconto = valor - 5"
      ]
    },
    {
      "cell_type": "code",
      "execution_count": null,
      "metadata": {
        "colab": {
          "base_uri": "https://localhost:8080/"
        },
        "id": "pIPgkMJTsnX2",
        "outputId": "873df43d-9ada-48c0-ddb8-2a5d435bbaf7"
      },
      "outputs": [
        {
          "name": "stdout",
          "output_type": "stream",
          "text": [
            "95\n"
          ]
        }
      ],
      "source": [
        "valor_convert = int(valor)\n",
        "desconto = valor_convert - 5\n",
        "print(desconto)"
      ]
    },
    {
      "cell_type": "code",
      "execution_count": null,
      "metadata": {
        "colab": {
          "base_uri": "https://localhost:8080/"
        },
        "id": "CZt8R7mms-z1",
        "outputId": "5b31a618-a485-49d6-b795-5240d232962f"
      },
      "outputs": [
        {
          "name": "stdout",
          "output_type": "stream",
          "text": [
            "95\n"
          ]
        }
      ],
      "source": [
        "desconto = int(valor) - 5\n",
        "print(desconto)"
      ]
    },
    {
      "cell_type": "markdown",
      "metadata": {
        "id": "ZyVmeUPiuHHT"
      },
      "source": [
        "## **Condicional**"
      ]
    },
    {
      "cell_type": "code",
      "execution_count": null,
      "metadata": {
        "id": "-TYX__J6uMLo"
      },
      "outputs": [],
      "source": [
        "# if\n",
        "if 5 > 10:\n",
        " print('verdade')"
      ]
    },
    {
      "cell_type": "code",
      "execution_count": null,
      "metadata": {
        "colab": {
          "base_uri": "https://localhost:8080/"
        },
        "id": "81CcjHxTujPm",
        "outputId": "bf8e284e-e643-4173-d5a6-65dc53fe19be"
      },
      "outputs": [
        {
          "name": "stdout",
          "output_type": "stream",
          "text": [
            "num1 é o maior número\n"
          ]
        }
      ],
      "source": [
        "#if/else\n",
        "num1 = 10\n",
        "num2 = 5\n",
        "if num1 > num2:\n",
        "  print('num1 é o maior número')\n",
        "\n",
        "else:\n",
        "  print('O num2 é o maior número')\n"
      ]
    },
    {
      "cell_type": "code",
      "execution_count": null,
      "metadata": {
        "colab": {
          "base_uri": "https://localhost:8080/"
        },
        "id": "QhhqttwWwDlY",
        "outputId": "539dc50d-e718-4459-b6d1-844eb450881a"
      },
      "outputs": [
        {
          "name": "stdout",
          "output_type": "stream",
          "text": [
            "o num1 é o maior número\n"
          ]
        }
      ],
      "source": [
        "# if / elif / else\n",
        "num1 = 50\n",
        "num2 = 10\n",
        "if num1 > num2:\n",
        "  print('o num1 é o maior número')\n",
        "elif num1 < num2:\n",
        "  print('o num2 é o maior número')\n",
        "else:\n",
        "  print('os dois são iguais')"
      ]
    },
    {
      "cell_type": "markdown",
      "metadata": {
        "id": "nqajXY6aSwpQ"
      },
      "source": [
        "## **Condicional com Operadores lógicos**"
      ]
    },
    {
      "cell_type": "code",
      "execution_count": null,
      "metadata": {
        "colab": {
          "base_uri": "https://localhost:8080/"
        },
        "id": "M--wk2QVS7Ih",
        "outputId": "10f9e831-557a-48b1-cf9a-dd0798945551"
      },
      "outputs": [
        {
          "name": "stdout",
          "output_type": "stream",
          "text": [
            "o número 1 é o maior número\n"
          ]
        }
      ],
      "source": [
        "num1 = 10\n",
        "num2 = 5\n",
        "num3 = 2\n",
        "if (num1 > num2) and (num1 > num3):\n",
        "     print('o número 1 é o maior número')\n",
        "else:\n",
        "    print('o número 1 não é o maior número')"
      ]
    },
    {
      "cell_type": "markdown",
      "metadata": {
        "id": "J29vuJ3lVxgA"
      },
      "source": [
        "## **listas, Tuplas e Dicionários**"
      ]
    },
    {
      "cell_type": "code",
      "execution_count": null,
      "metadata": {
        "colab": {
          "base_uri": "https://localhost:8080/"
        },
        "id": "OVA9JNvgV7ZI",
        "outputId": "09ea58ad-2b47-4aa9-e4c6-1a9e0688ed1d"
      },
      "outputs": [
        {
          "data": {
            "text/plain": [
              "[1, 2, 3, 4, 5]"
            ]
          },
          "execution_count": 62,
          "metadata": {},
          "output_type": "execute_result"
        }
      ],
      "source": [
        "# Listas\n",
        "[1,2,3,4,5]  #Colchetes"
      ]
    },
    {
      "cell_type": "code",
      "execution_count": null,
      "metadata": {
        "colab": {
          "base_uri": "https://localhost:8080/"
        },
        "id": "J1dlQVSvWUOa",
        "outputId": "5a9c051b-3c80-4e4b-f4db-e8e1842fe0d9"
      },
      "outputs": [
        {
          "data": {
            "text/plain": [
              "(1, 2, 3, 4, 5)"
            ]
          },
          "execution_count": 63,
          "metadata": {},
          "output_type": "execute_result"
        }
      ],
      "source": [
        "# Tuplas\n",
        "(1,2,3,4,5) #Parentêses"
      ]
    },
    {
      "cell_type": "code",
      "execution_count": null,
      "metadata": {
        "colab": {
          "base_uri": "https://localhost:8080/"
        },
        "id": "ppI6eHneWdPA",
        "outputId": "30d06297-f25b-469e-c53b-768b0c55a73b"
      },
      "outputs": [
        {
          "data": {
            "text/plain": [
              "{'num1': 1, 'num2': 2}"
            ]
          },
          "execution_count": 64,
          "metadata": {},
          "output_type": "execute_result"
        }
      ],
      "source": [
        "# Dicionários\n",
        "{'num1': 1, 'num2': 2} #Chave"
      ]
    },
    {
      "cell_type": "markdown",
      "metadata": {
        "id": "BU6aAtihYLsK"
      },
      "source": [
        "## **Listas**"
      ]
    },
    {
      "cell_type": "code",
      "execution_count": null,
      "metadata": {
        "id": "hwzlnaXwYOj1"
      },
      "outputs": [],
      "source": [
        "lista =[5,'Victor', 9.9]"
      ]
    },
    {
      "cell_type": "code",
      "execution_count": null,
      "metadata": {
        "colab": {
          "base_uri": "https://localhost:8080/"
        },
        "id": "oNDIm6qKYZH_",
        "outputId": "4870bc17-b4c0-4f20-fff5-2d30a8545058"
      },
      "outputs": [
        {
          "data": {
            "text/plain": [
              "list"
            ]
          },
          "execution_count": 66,
          "metadata": {},
          "output_type": "execute_result"
        }
      ],
      "source": [
        "type(lista)"
      ]
    },
    {
      "cell_type": "code",
      "execution_count": null,
      "metadata": {
        "id": "T--dQXt9Yb-6"
      },
      "outputs": [],
      "source": [
        "lista.append(\"Giovanna\") # Adicionar um elementor na Lista"
      ]
    },
    {
      "cell_type": "code",
      "execution_count": null,
      "metadata": {
        "colab": {
          "base_uri": "https://localhost:8080/"
        },
        "id": "B1tIf-QkYn1F",
        "outputId": "51753300-e92a-42d5-cc84-1d8a290aa7d9"
      },
      "outputs": [
        {
          "name": "stdout",
          "output_type": "stream",
          "text": [
            "[5, 'Victor', 9.9, 'Giovanna']\n",
            "Victor\n"
          ]
        }
      ],
      "source": [
        "print(lista)\n",
        "print(lista[1])"
      ]
    },
    {
      "cell_type": "markdown",
      "metadata": {
        "id": "rc_dr-tWcwMU"
      },
      "source": [
        "##**Tuplas**"
      ]
    },
    {
      "cell_type": "code",
      "execution_count": null,
      "metadata": {
        "id": "tU-FmHMqcy-t"
      },
      "outputs": [],
      "source": [
        "Tupla = (5,'Victor',9.9)"
      ]
    },
    {
      "cell_type": "code",
      "execution_count": null,
      "metadata": {
        "colab": {
          "base_uri": "https://localhost:8080/"
        },
        "id": "0wlRgWb_c_o_",
        "outputId": "4506e9d5-be50-46a4-a960-24ad072894b3"
      },
      "outputs": [
        {
          "data": {
            "text/plain": [
              "tuple"
            ]
          },
          "execution_count": 74,
          "metadata": {},
          "output_type": "execute_result"
        }
      ],
      "source": [
        "type(Tupla)"
      ]
    },
    {
      "cell_type": "code",
      "execution_count": null,
      "metadata": {
        "colab": {
          "base_uri": "https://localhost:8080/"
        },
        "id": "1RzpCuLCdCET",
        "outputId": "db3c57e9-6561-443e-eb81-18ef391fbf91"
      },
      "outputs": [
        {
          "ename": "AttributeError",
          "evalue": "'tuple' object has no attribute 'append'",
          "output_type": "error",
          "traceback": [
            "\u001b[0;31m---------------------------------------------------------------------------\u001b[0m",
            "\u001b[0;31mAttributeError\u001b[0m                            Traceback (most recent call last)",
            "\u001b[0;32m<ipython-input-79-826100478fcc>\u001b[0m in \u001b[0;36m<cell line: 0>\u001b[0;34m()\u001b[0m\n\u001b[0;32m----> 1\u001b[0;31m \u001b[0mTupla\u001b[0m\u001b[0;34m.\u001b[0m\u001b[0mappend\u001b[0m\u001b[0;34m(\u001b[0m\u001b[0;34m\"Giovanna\"\u001b[0m\u001b[0;34m)\u001b[0m\u001b[0;34m\u001b[0m\u001b[0;34m\u001b[0m\u001b[0m\n\u001b[0m",
            "\u001b[0;31mAttributeError\u001b[0m: 'tuple' object has no attribute 'append'"
          ]
        }
      ],
      "source": [
        "Tupla.append(\"Giovanna\") # tupla não permite inserir"
      ]
    },
    {
      "cell_type": "code",
      "execution_count": null,
      "metadata": {
        "colab": {
          "base_uri": "https://localhost:8080/"
        },
        "id": "O95yH9MSdnIt",
        "outputId": "0e089ed9-af9f-4eea-9fd0-7fed9dd250a4"
      },
      "outputs": [
        {
          "name": "stdout",
          "output_type": "stream",
          "text": [
            "(5, 'Victor', 9.9)\n"
          ]
        }
      ],
      "source": [
        "print(Tupla)"
      ]
    },
    {
      "cell_type": "markdown",
      "metadata": {
        "id": "n8cqDY0meov9"
      },
      "source": [
        "##**Dicionário**"
      ]
    },
    {
      "cell_type": "code",
      "execution_count": null,
      "metadata": {
        "id": "zA8nmkx7etHo"
      },
      "outputs": [],
      "source": [
        "dicionário = {'nome':'Victor','cidade':'São Paulo',}"
      ]
    },
    {
      "cell_type": "code",
      "execution_count": null,
      "metadata": {
        "colab": {
          "base_uri": "https://localhost:8080/"
        },
        "id": "wpFJph-qfEDu",
        "outputId": "e95cf790-bfe5-4a90-ee7d-2bfe22c19d5c"
      },
      "outputs": [
        {
          "data": {
            "text/plain": [
              "dict"
            ]
          },
          "execution_count": 85,
          "metadata": {},
          "output_type": "execute_result"
        }
      ],
      "source": [
        "type(dicionário)"
      ]
    },
    {
      "cell_type": "code",
      "execution_count": null,
      "metadata": {
        "colab": {
          "base_uri": "https://localhost:8080/"
        },
        "id": "S4Z0AxO0fJhM",
        "outputId": "6f9f2bc9-0112-4b80-c041-353c49d4a8ff"
      },
      "outputs": [
        {
          "name": "stdout",
          "output_type": "stream",
          "text": [
            "{'nome': 'Victor', 'cidade': 'São Paulo'}\n"
          ]
        }
      ],
      "source": [
        "print(dicionário)"
      ]
    },
    {
      "cell_type": "code",
      "execution_count": null,
      "metadata": {
        "colab": {
          "base_uri": "https://localhost:8080/"
        },
        "id": "UEa55nyufOEg",
        "outputId": "443354cb-fe95-47a1-bf98-df4b81fcb926"
      },
      "outputs": [
        {
          "name": "stdout",
          "output_type": "stream",
          "text": [
            "Victor\n"
          ]
        }
      ],
      "source": [
        "print(dicionário['nome'])"
      ]
    },
    {
      "cell_type": "code",
      "execution_count": null,
      "metadata": {
        "id": "8SkPRlMbfVXx"
      },
      "outputs": [],
      "source": [
        "dicionário['último_nome'] = 'Crispim'"
      ]
    },
    {
      "cell_type": "code",
      "execution_count": null,
      "metadata": {
        "colab": {
          "base_uri": "https://localhost:8080/"
        },
        "id": "BpqNSZ5qfkul",
        "outputId": "0fb01c32-9239-4c39-8a08-b4f0ea68ea79"
      },
      "outputs": [
        {
          "name": "stdout",
          "output_type": "stream",
          "text": [
            "{'nome': 'Victor', 'cidade': 'São Paulo', 'último_nome': 'Crispim'}\n"
          ]
        }
      ],
      "source": [
        "print(dicionário)"
      ]
    },
    {
      "cell_type": "markdown",
      "metadata": {
        "id": "Uhwms2y-s9dY"
      },
      "source": [
        "##**Estrutra de Repetiçao**"
      ]
    },
    {
      "cell_type": "markdown",
      "metadata": {
        "id": "dAvFYAjEtIEQ"
      },
      "source": [
        "#For"
      ]
    },
    {
      "cell_type": "code",
      "execution_count": null,
      "metadata": {
        "colab": {
          "base_uri": "https://localhost:8080/"
        },
        "id": "Zi4pvK8vt0Ut",
        "outputId": "4ab604d7-ed68-4fd2-981e-b0888675681e"
      },
      "outputs": [
        {
          "name": "stdout",
          "output_type": "stream",
          "text": [
            "0\n",
            "1\n",
            "2\n",
            "3\n",
            "4\n",
            "5\n",
            "6\n",
            "7\n",
            "8\n",
            "9\n"
          ]
        }
      ],
      "source": [
        "# for range\n",
        "for contador in range(10):\n",
        "     print(contador)"
      ]
    },
    {
      "cell_type": "code",
      "execution_count": null,
      "metadata": {
        "colab": {
          "base_uri": "https://localhost:8080/"
        },
        "id": "fMRtcQxIuQSc",
        "outputId": "7117cc9c-01ab-48e5-b3c3-c38955b765c7"
      },
      "outputs": [
        {
          "name": "stdout",
          "output_type": "stream",
          "text": [
            "0\n",
            "1\n",
            "2\n"
          ]
        }
      ],
      "source": [
        "# for range + break\n",
        "for contador in range(1000):\n",
        "    print(contador)\n",
        "    if contador == 2:\n",
        "       break"
      ]
    },
    {
      "cell_type": "code",
      "execution_count": null,
      "metadata": {
        "id": "HUmKAl68uenV"
      },
      "outputs": [],
      "source": [
        "lista = [\"testei1\",\"testei2\"]"
      ]
    },
    {
      "cell_type": "code",
      "execution_count": null,
      "metadata": {
        "colab": {
          "base_uri": "https://localhost:8080/"
        },
        "id": "juqbNwDCupQW",
        "outputId": "69c84081-8c6a-4d8c-ddbb-cc8bd204d9b4"
      },
      "outputs": [
        {
          "name": "stdout",
          "output_type": "stream",
          "text": [
            "testei1\n",
            "testei2\n"
          ]
        }
      ],
      "source": [
        "# for simples\n",
        "for val in lista:\n",
        "  print(val)"
      ]
    },
    {
      "cell_type": "code",
      "execution_count": null,
      "metadata": {
        "colab": {
          "base_uri": "https://localhost:8080/"
        },
        "id": "gKhOlSUsu3x2",
        "outputId": "e3e6cb41-5097-4d0d-cffc-4b0a90f03872"
      },
      "outputs": [
        {
          "name": "stdout",
          "output_type": "stream",
          "text": [
            "0 testei1\n",
            "1 testei2\n"
          ]
        }
      ],
      "source": [
        "# for com unumerate\n",
        "for i, val in enumerate(lista):\n",
        "   print(i, val)"
      ]
    },
    {
      "cell_type": "markdown",
      "metadata": {
        "id": "_f897EdavZxO"
      },
      "source": [
        "#**for com operadores compostos**#"
      ]
    },
    {
      "cell_type": "code",
      "execution_count": null,
      "metadata": {
        "colab": {
          "base_uri": "https://localhost:8080/"
        },
        "id": "xUtfL2rIvoPX",
        "outputId": "7ff00652-bee3-44bb-df98-9e54b0121450"
      },
      "outputs": [
        {
          "name": "stdout",
          "output_type": "stream",
          "text": [
            "2\n",
            "3\n",
            "4\n"
          ]
        }
      ],
      "source": [
        "lista2 =[2, 3, 4]\n",
        "for val in lista2:\n",
        "  print(val)"
      ]
    },
    {
      "cell_type": "code",
      "execution_count": null,
      "metadata": {
        "colab": {
          "base_uri": "https://localhost:8080/"
        },
        "id": "MI44DQDExJp7",
        "outputId": "1f9f7ccd-c986-43fa-f8a3-f98decbde558"
      },
      "outputs": [
        {
          "name": "stdout",
          "output_type": "stream",
          "text": [
            "3\n",
            "4\n",
            "5\n"
          ]
        }
      ],
      "source": [
        "for val in lista2:\n",
        "  val += 1\n",
        "  print(val)"
      ]
    },
    {
      "cell_type": "code",
      "execution_count": null,
      "metadata": {
        "colab": {
          "base_uri": "https://localhost:8080/"
        },
        "id": "1CPPptlixkOs",
        "outputId": "6219ae3b-6123-46c0-dcc8-014619369d84"
      },
      "outputs": [
        {
          "name": "stdout",
          "output_type": "stream",
          "text": [
            "4\n",
            "5\n",
            "6\n"
          ]
        }
      ],
      "source": [
        "for val in lista2:\n",
        "  val += 2\n",
        "  print(val)"
      ]
    },
    {
      "cell_type": "markdown",
      "metadata": {
        "id": "AUl8aLc3x7yE"
      },
      "source": [
        "##**while**"
      ]
    },
    {
      "cell_type": "code",
      "execution_count": null,
      "metadata": {
        "colab": {
          "base_uri": "https://localhost:8080/"
        },
        "id": "ZWQrpG7Fx_-m",
        "outputId": "873be6b4-3314-4c1d-c72e-df7a38e46481"
      },
      "outputs": [
        {
          "name": "stdout",
          "output_type": "stream",
          "text": [
            "2\n",
            "4\n",
            "8\n"
          ]
        }
      ],
      "source": [
        "val = 1\n",
        "while (val < 6):\n",
        "  val *=2\n",
        "  print(val)"
      ]
    },
    {
      "cell_type": "code",
      "execution_count": null,
      "metadata": {
        "colab": {
          "base_uri": "https://localhost:8080/"
        },
        "id": "PlEyd0qTyyeB",
        "outputId": "309d23b4-9cee-41bf-8939-648ed418bc9a"
      },
      "outputs": [
        {
          "name": "stdout",
          "output_type": "stream",
          "text": [
            "o valor de val  é : 8\n"
          ]
        }
      ],
      "source": [
        "# while com else\n",
        "val = 1\n",
        "while val < 6:\n",
        "  val *=2\n",
        "else:\n",
        "  print(\"o valor de val  é :\", val)\n"
      ]
    },
    {
      "cell_type": "markdown",
      "metadata": {
        "id": "nQkx_3WoGNN9"
      },
      "source": [
        "##**Exercicios**"
      ]
    },
    {
      "cell_type": "code",
      "execution_count": null,
      "metadata": {
        "colab": {
          "base_uri": "https://localhost:8080/"
        },
        "id": "w0MyhYYLGSgv",
        "outputId": "e690c4d6-6bbb-4a15-d54c-a0435c743146"
      },
      "outputs": [
        {
          "name": "stdout",
          "output_type": "stream",
          "text": [
            "Por favor, insira seu nome: Giovanna\n",
            "Olá, Giovanna! Bem vindo ao nosso Sistema.\n"
          ]
        }
      ],
      "source": [
        "nome_usuário = input(\"Por favor, insira seu nome: \" ) # Solicitar o nome do usuário\n",
        "print(f\"Olá, {nome_usuário}! Bem vindo ao nosso Sistema.\") # Exibir o nome do usuário"
      ]
    },
    {
      "cell_type": "code",
      "execution_count": null,
      "metadata": {
        "colab": {
          "base_uri": "https://localhost:8080/"
        },
        "id": "K2Fc85umJF3d",
        "outputId": "f6643771-1fc1-4c9d-b7c2-c2728d0e8005"
      },
      "outputs": [
        {
          "name": "stdout",
          "output_type": "stream",
          "text": [
            "Por favor, insira sua idade:16\n"
          ]
        }
      ],
      "source": [
        "idade_usuário = int(input(\"Por favor, insira sua idade:\")) # Solicitar idade do usuário e converter para inteiro\n"
      ]
    },
    {
      "cell_type": "code",
      "execution_count": null,
      "metadata": {
        "colab": {
          "base_uri": "https://localhost:8080/"
        },
        "id": "lp-Ej1d1Jzo-",
        "outputId": "6fe4f292-7212-434b-ad03-8ec02cd8c22b"
      },
      "outputs": [
        {
          "name": "stdout",
          "output_type": "stream",
          "text": [
            "Voce é menor de idade\n"
          ]
        }
      ],
      "source": [
        "if idade_usuário >= 18: # Verificar se o usuário é menor de idade\n",
        " print(\"Você é maior de idade\")\n",
        "else:\n",
        "    print(\"Voce é menor de idade\")\n"
      ]
    },
    {
      "cell_type": "code",
      "execution_count": null,
      "metadata": {
        "colab": {
          "base_uri": "https://localhost:8080/"
        },
        "id": "Hwa6RFMOMtJi",
        "outputId": "989afc9a-83a0-4178-dcee-caa3cfb9f232"
      },
      "outputs": [
        {
          "name": "stdout",
          "output_type": "stream",
          "text": [
            "Digite seu gênero (homem ou mulher); mulher\n"
          ]
        }
      ],
      "source": [
        "genero = input(\"Digite seu gênero (homem ou mulher); \")"
      ]
    },
    {
      "cell_type": "markdown",
      "metadata": {
        "id": "cwt2XDsWpfrb"
      },
      "source": [
        "##**CALCULADORA**\n",
        "#Primeiro Projeto"
      ]
    },
    {
      "cell_type": "markdown",
      "metadata": {
        "id": "XyV3o9fy488o"
      },
      "source": []
    },
    {
      "cell_type": "code",
      "execution_count": null,
      "metadata": {
        "colab": {
          "background_save": true,
          "base_uri": "https://localhost:8080/"
        },
        "id": "nX2bbioc6VHU",
        "outputId": "d5c2831f-30f4-4268-b3ba-fa5f372f28f8"
      },
      "outputs": [
        {
          "name": "stdout",
          "output_type": "stream",
          "text": [
            "\n",
            "Calculadora Simples:\n",
            "1. Adicionar\n",
            "2. Subtrair\n",
            "3. Multiplicar\n",
            "4. Dividir\n",
            "5. Sair\n",
            "55.0 * 2.0 = 110.0\n",
            "\n",
            "Calculadora Simples:\n",
            "1. Adicionar\n",
            "2. Subtrair\n",
            "3. Multiplicar\n",
            "4. Dividir\n",
            "5. Sair\n",
            "999.0 - 888.0 = 111.0\n",
            "\n",
            "Calculadora Simples:\n",
            "1. Adicionar\n",
            "2. Subtrair\n",
            "3. Multiplicar\n",
            "4. Dividir\n",
            "5. Sair\n",
            "86.0 / 6.0 = 14.333333333333334\n",
            "\n",
            "Calculadora Simples:\n",
            "1. Adicionar\n",
            "2. Subtrair\n",
            "3. Multiplicar\n",
            "4. Dividir\n",
            "5. Sair\n",
            "80808080.0 + 70707070.0 = 151515150.0\n",
            "\n",
            "Calculadora Simples:\n",
            "1. Adicionar\n",
            "2. Subtrair\n",
            "3. Multiplicar\n",
            "4. Dividir\n",
            "5. Sair\n"
          ]
        }
      ],
      "source": [
        "# Funções para operações matemáticas\n",
        "def adicionar(x, y):\n",
        "    return x + y\n",
        "\n",
        "def subtrair(x, y):\n",
        "    return x - y\n",
        "\n",
        "def multiplicar(x, y):\n",
        "    return x * y\n",
        "\n",
        "def dividir(x, y):\n",
        "    if y != 0:\n",
        "        return x / y\n",
        "    else:\n",
        "        return \"Erro! Divisão por zero.\"\n",
        "\n",
        "# Função para exibir o menu de opções\n",
        "def exibir_menu():\n",
        "    print(\"\\nCalculadora Simples:\")\n",
        "    print(\"1. Adicionar\")\n",
        "    print(\"2. Subtrair\")\n",
        "    print(\"3. Multiplicar\")\n",
        "    print(\"4. Dividir\")\n",
        "    print(\"5. Sair\")\n",
        "\n",
        "# Função principal da calculadora\n",
        "def calculadora():\n",
        "    while True:\n",
        "        exibir_menu()\n",
        "\n",
        "        try:\n",
        "            escolha = int(input(\"Escolha uma operação (1/2/3/4/5): \"))\n",
        "        except ValueError:\n",
        "            print(\"Por favor, digite um número válido.\")\n",
        "            continue\n",
        "\n",
        "        if escolha == 5:\n",
        "            print(\"Saindo...\")\n",
        "            break\n",
        "\n",
        "        if escolha in [1, 2, 3, 4]:\n",
        "            try:\n",
        "                num1 = float(input(\"Digite o primeiro número: \"))\n",
        "                num2 = float(input(\"Digite o segundo número: \"))\n",
        "            except ValueError:\n",
        "                print(\"Por favor, digite números válidos.\")\n",
        "                continue\n",
        "\n",
        "            if escolha == 1:\n",
        "                print(f\"{num1} + {num2} = {adicionar(num1, num2)}\")\n",
        "            elif escolha == 2:\n",
        "                print(f\"{num1} - {num2} = {subtrair(num1, num2)}\")\n",
        "            elif escolha == 3:\n",
        "                print(f\"{num1} * {num2} = {multiplicar(num1, num2)}\")\n",
        "            elif escolha == 4:\n",
        "                resultado = dividir(num1, num2)\n",
        "                print(f\"{num1} / {num2} = {resultado}\")\n",
        "        else:\n",
        "            print(\"Opção inválida! Por favor, escolha uma operação de 1 a 5.\")\n",
        "\n",
        "# Iniciar a calculadora\n",
        "calculadora()\n"
      ]
    }
  ],
  "metadata": {
    "colab": {
      "collapsed_sections": [
        "PnX77btj03Fn",
        "g02SEhNf5Kf9",
        "GBOf3_rY-5Lz",
        "XR5gpTveYDlM",
        "RDacR5wjb316",
        "FqSQUOvIiD7v",
        "ZyVmeUPiuHHT",
        "nqajXY6aSwpQ",
        "J29vuJ3lVxgA",
        "BU6aAtihYLsK",
        "rc_dr-tWcwMU",
        "n8cqDY0meov9",
        "dAvFYAjEtIEQ",
        "AUl8aLc3x7yE"
      ],
      "provenance": []
    },
    "kernelspec": {
      "display_name": "Python 3",
      "name": "python3"
    },
    "language_info": {
      "name": "python"
    }
  },
  "nbformat": 4,
  "nbformat_minor": 0
}
