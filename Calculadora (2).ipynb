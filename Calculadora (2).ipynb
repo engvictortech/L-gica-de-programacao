{
  "nbformat": 4,
  "nbformat_minor": 0,
  "metadata": {
    "colab": {
      "provenance": [],
      "toc_visible": true
    },
    "kernelspec": {
      "name": "python3",
      "display_name": "Python 3"
    },
    "language_info": {
      "name": "python"
    }
  },
  "cells": [
    {
      "cell_type": "code",
      "execution_count": null,
      "metadata": {
        "id": "r5oBX2Us8CGj"
      },
      "outputs": [],
      "source": []
    },
    {
      "cell_type": "markdown",
      "source": [
        "# Nova seção"
      ],
      "metadata": {
        "id": "DMOs5PAhPtke"
      }
    },
    {
      "cell_type": "code",
      "source": [
        "# Funções para operações matemáticas\n",
        "def adicionar(x, y):\n",
        "    return x + y\n",
        "\n",
        "def subtrair(x, y):\n",
        "    return x - y\n",
        "\n",
        "def multiplicar(x, y):\n",
        "    return x * y\n",
        "\n",
        "def dividir(x, y):\n",
        "    if y != 0:\n",
        "        return x / y\n",
        "    else:\n",
        "        return \"Erro! Divisão por zero.\"\n",
        "\n",
        "# Função para exibir o menu de opções\n",
        "def exibir_menu():\n",
        "    print(\"\\nCalculadora Simples:\")\n",
        "    print(\"1. Adicionar\")\n",
        "    print(\"2. Subtrair\")\n",
        "    print(\"3. Multiplicar\")\n",
        "    print(\"4. Dividir\")\n",
        "    print(\"5. Sair\")\n",
        "\n",
        "# Função principal da calculadora\n",
        "def calculadora():\n",
        "    while True:\n",
        "        exibir_menu()\n",
        "\n",
        "        try:\n",
        "            escolha = int(input(\"Escolha uma operação (1/2/3/4/5): \"))\n",
        "        except ValueError:\n",
        "            print(\"Por favor, digite um número válido.\")\n",
        "            continue\n",
        "\n",
        "        if escolha == 5:\n",
        "            print(\"Saindo...\")\n",
        "            break\n",
        "\n",
        "        if escolha in [1, 2, 3, 4]:\n",
        "            try:\n",
        "                num1 = float(input(\"Digite o primeiro número: \"))\n",
        "                num2 = float(input(\"Digite o segundo número: \"))\n",
        "            except ValueError:\n",
        "                print(\"Por favor, digite números válidos.\")\n",
        "                continue\n",
        "\n",
        "            if escolha == 1:\n",
        "                print(f\"{num1} + {num2} = {adicionar(num1, num2)}\")\n",
        "            elif escolha == 2:\n",
        "                print(f\"{num1} - {num2} = {subtrair(num1, num2)}\")\n",
        "            elif escolha == 3:\n",
        "                print(f\"{num1} * {num2} = {multiplicar(num1, num2)}\")\n",
        "            elif escolha == 4:\n",
        "                resultado = dividir(num1, num2)\n",
        "                print(f\"{num1} / {num2} = {resultado}\")\n",
        "        else:\n",
        "            print(\"Opção inválida! Por favor, escolha uma operação de 1 a 5.\")\n",
        "\n",
        "# Iniciar a calculadora\n",
        "calculadora()\n"
      ],
      "metadata": {
        "colab": {
          "base_uri": "https://localhost:8080/"
        },
        "id": "nX2bbioc6VHU",
        "outputId": "ed10bdf2-d233-44ef-c5f8-83805a3dc521"
      },
      "execution_count": null,
      "outputs": [
        {
          "name": "stdout",
          "output_type": "stream",
          "text": [
            "\n",
            "Calculadora Simples:\n",
            "1. Adicionar\n",
            "2. Subtrair\n",
            "3. Multiplicar\n",
            "4. Dividir\n",
            "5. Sair\n",
            "Escolha uma operação (1/2/3/4/5): 1\n"
          ]
        }
      ]
    }
  ]
}