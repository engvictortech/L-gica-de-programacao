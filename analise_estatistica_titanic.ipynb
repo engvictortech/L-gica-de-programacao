{
 "cells": [
  {
   "cell_type": "markdown",
   "id": "82ef8ee9",
   "metadata": {},
   "source": [
    "# 📊 Análise Estatística com Python - Titanic Dataset"
   ]
  },
  {
   "cell_type": "code",
   "execution_count": null,
   "id": "209c6c81",
   "metadata": {},
   "outputs": [],
   "source": [
    "import pandas as pd\n",
    "import numpy as np\n",
    "import seaborn as sns\n",
    "import matplotlib.pyplot as plt\n",
    "\n",
    "sns.set(style=\"whitegrid\")\n"
   ]
  },
  {
   "cell_type": "markdown",
   "id": "ad86387f",
   "metadata": {},
   "source": [
    "## 🔹 Carregamento do Dataset"
   ]
  },
  {
   "cell_type": "code",
   "execution_count": null,
   "id": "41961a8d",
   "metadata": {},
   "outputs": [],
   "source": [
    "url = \"https://raw.githubusercontent.com/datasciencedojo/datasets/master/titanic.csv\"\n",
    "df = pd.read_csv(url)\n",
    "df.head()\n"
   ]
  },
  {
   "cell_type": "markdown",
   "id": "8ecc4ed6",
   "metadata": {},
   "source": [
    "## 🔹 Análise Exploratória Inicial"
   ]
  },
  {
   "cell_type": "code",
   "execution_count": null,
   "id": "10585f87",
   "metadata": {},
   "outputs": [],
   "source": [
    "print(\"Dimensão:\", df.shape)\n",
    "print(\"\\nTipos de dados:\\n\", df.dtypes)\n",
    "print(\"\\nValores nulos:\\n\", df.isnull().sum())\n"
   ]
  },
  {
   "cell_type": "markdown",
   "id": "968dca4d",
   "metadata": {},
   "source": [
    "## 🔹 Estatísticas Descritivas"
   ]
  },
  {
   "cell_type": "code",
   "execution_count": null,
   "id": "8158a4a0",
   "metadata": {},
   "outputs": [],
   "source": [
    "df.describe()"
   ]
  },
  {
   "cell_type": "markdown",
   "id": "bbb7c3f6",
   "metadata": {},
   "source": [
    "## 🔹 Limpeza de Dados"
   ]
  },
  {
   "cell_type": "code",
   "execution_count": null,
   "id": "8e3f8782",
   "metadata": {},
   "outputs": [],
   "source": [
    "# Excluir colunas com muitos valores nulos ou irrelevantes\n",
    "df = df.drop(columns=[\"Cabin\", \"Ticket\", \"Name\"])\n",
    "\n",
    "# Preencher valores ausentes em 'Age' com a mediana\n",
    "df[\"Age\"].fillna(df[\"Age\"].median(), inplace=True)\n",
    "\n",
    "# Remover linhas com valores nulos restantes\n",
    "df.dropna(inplace=True)\n"
   ]
  },
  {
   "cell_type": "markdown",
   "id": "dacaac5b",
   "metadata": {},
   "source": [
    "## 🔹 Visualizações"
   ]
  },
  {
   "cell_type": "code",
   "execution_count": null,
   "id": "1dfb6ac2",
   "metadata": {},
   "outputs": [],
   "source": [
    "# Histograma de Idades\n",
    "sns.histplot(df[\"Age\"], kde=True)\n",
    "plt.title(\"Distribuição de Idades\")\n",
    "plt.show()\n",
    "\n",
    "# Sobrevivência por sexo\n",
    "sns.countplot(data=df, x=\"Survived\", hue=\"Sex\")\n",
    "plt.title(\"Sobreviventes por Sexo\")\n",
    "plt.show()\n"
   ]
  },
  {
   "cell_type": "markdown",
   "id": "cbad085d",
   "metadata": {},
   "source": [
    "## 🔹 Correlação entre Variáveis Numéricas"
   ]
  },
  {
   "cell_type": "code",
   "execution_count": null,
   "id": "9e224cd9",
   "metadata": {},
   "outputs": [],
   "source": [
    "plt.figure(figsize=(8,6))\n",
    "sns.heatmap(df.corr(), annot=True, cmap=\"coolwarm\")\n",
    "plt.title(\"Mapa de Correlação\")\n",
    "plt.show()\n"
   ]
  },
  {
   "cell_type": "markdown",
   "id": "5e6424aa",
   "metadata": {},
   "source": [
    "## 🔹 Relações Cruzadas com `groupby`"
   ]
  },
  {
   "cell_type": "code",
   "execution_count": null,
   "id": "2280ba04",
   "metadata": {},
   "outputs": [],
   "source": [
    "# Taxa de sobrevivência por classe\n",
    "survival_by_class = df.groupby(\"Pclass\")[\"Survived\"].mean()\n",
    "print(\"Taxa de sobrevivência por classe:\\n\", survival_by_class)\n"
   ]
  },
  {
   "cell_type": "markdown",
   "id": "eac2f7a0",
   "metadata": {},
   "source": [
    "---\n",
    "🔚 Fim da análise inicial. Você pode expandir o projeto com testes de hipótese, regressão, ou outros métodos estatísticos!"
   ]
  }
 ],
 "metadata": {},
 "nbformat": 4,
 "nbformat_minor": 5
}
